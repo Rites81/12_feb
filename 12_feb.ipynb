{
 "cells": [
  {
   "cell_type": "markdown",
   "id": "d267a52d",
   "metadata": {},
   "source": [
    "# Assignment"
   ]
  },
  {
   "cell_type": "markdown",
   "id": "8b13c794",
   "metadata": {},
   "source": [
    "## Q1. What is an Exception in Python? Write the difference between Exceptions and Syntax errors.\n",
    "An exception in Python is an event that occurs during the execution of a program that disrupts its normal flow. When an error occurs, Python raises an exception, and the program stops executing unless the exception is caught and handled.\n",
    "\n",
    "Differences between Exceptions and Syntax Errors:\n",
    "\n",
    "Syntax Errors occur when Python encounters code that is not valid syntactically, and it cannot compile the program. These errors are caught during the parsing stage before execution starts. For example, forgetting a colon at the end of a for loop."
   ]
  },
  {
   "cell_type": "code",
   "execution_count": 2,
   "id": "13861e06",
   "metadata": {},
   "outputs": [
    {
     "ename": "SyntaxError",
     "evalue": "expected ':' (2229508749.py, line 1)",
     "output_type": "error",
     "traceback": [
      "\u001b[1;36m  Cell \u001b[1;32mIn[2], line 1\u001b[1;36m\u001b[0m\n\u001b[1;33m    for i in range(5) # SyntaxError: expected ':'\u001b[0m\n\u001b[1;37m                      ^\u001b[0m\n\u001b[1;31mSyntaxError\u001b[0m\u001b[1;31m:\u001b[0m expected ':'\n"
     ]
    }
   ],
   "source": [
    "for i in range(5) # SyntaxError: expected ':'\n",
    "    print(i)\n"
   ]
  },
  {
   "cell_type": "markdown",
   "id": "a470cc5b",
   "metadata": {},
   "source": [
    "Exceptions occur during the execution of a program, even if the code syntax is correct. They usually arise from unexpected situations like dividing by zero, file not found, etc."
   ]
  },
  {
   "cell_type": "code",
   "execution_count": 3,
   "id": "81229db4",
   "metadata": {},
   "outputs": [
    {
     "ename": "ZeroDivisionError",
     "evalue": "division by zero",
     "output_type": "error",
     "traceback": [
      "\u001b[1;31m---------------------------------------------------------------------------\u001b[0m",
      "\u001b[1;31mZeroDivisionError\u001b[0m                         Traceback (most recent call last)",
      "Cell \u001b[1;32mIn[3], line 1\u001b[0m\n\u001b[1;32m----> 1\u001b[0m a \u001b[38;5;241m=\u001b[39m \u001b[38;5;241;43m5\u001b[39;49m\u001b[43m \u001b[49m\u001b[38;5;241;43m/\u001b[39;49m\u001b[43m \u001b[49m\u001b[38;5;241;43m0\u001b[39;49m  \u001b[38;5;66;03m# Raises ZeroDivisionError\u001b[39;00m\n",
      "\u001b[1;31mZeroDivisionError\u001b[0m: division by zero"
     ]
    }
   ],
   "source": [
    "a = 5 / 0  # Raises ZeroDivisionError\n"
   ]
  },
  {
   "cell_type": "markdown",
   "id": "c9ca2841",
   "metadata": {},
   "source": [
    "## Q2. What happens when an exception is not handled? Explain with an example.\n",
    "When an exception is not handled, the program stops and displays a traceback message showing where the exception occurred, along with the type of the exception."
   ]
  },
  {
   "cell_type": "markdown",
   "id": "4375e99d",
   "metadata": {},
   "source": [
    "def divide(a, b):\n",
    "    return a / b\n",
    "\n",
    "result = divide(4, 0)\n"
   ]
  },
  {
   "cell_type": "markdown",
   "id": "65842297",
   "metadata": {},
   "source": [
    "## Q3. Which Python statements are used to catch and handle exceptions? Explain with an example.\n",
    "In Python, the try and except statements are used to catch and handle exceptions.\n",
    "\n",
    "Example:\n",
    "\n",
    "\n",
    "try:\n",
    "    result = 10 / 0\n",
    "except ZeroDivisionError:\n",
    "    print(\"You cannot divide by zero!\")\n",
    "Output:\n",
    "\n",
    "csharp\n",
    "Copy code\n",
    "You cannot divide by zero!\n",
    "Here, the ZeroDivisionError is caught by the except block, and the program continues without crashing.\n",
    "\n",
    "## Q4. Explain with an example:\n",
    "1. try and else\n",
    "The else block is executed only if no exceptions are raised in the try block.\n",
    "\n",
    "Example:\n",
    "\n",
    "try:\n",
    "    num = int(input(\"Enter a number: \"))\n",
    "    result = 10 / num\n",
    "except ZeroDivisionError:\n",
    "    print(\"You cannot divide by zero!\")\n",
    "else:\n",
    "    print(f\"Result: {result}\")\n",
    "If the user enters a valid number (not zero), the else block executes.\n",
    "If a ZeroDivisionError occurs, the except block is executed, and else is skipped.\n",
    "2. finally\n",
    "The finally block is executed no matter what happens, whether an exception is raised or not.\n",
    "\n",
    "Example:\n",
    "\n",
    "\n",
    "try:\n",
    "    num = int(input(\"Enter a number: \"))\n",
    "    result = 10 / num\n",
    "except ZeroDivisionError:\n",
    "    print(\"You cannot divide by zero!\")\n",
    "finally:\n",
    "    print(\"Execution completed.\")\n",
    "The finally block is executed whether an exception occurs or not.\n",
    "3. raise\n",
    "The raise statement allows you to manually raise an exception.\n",
    "\n",
    "Example:\n",
    "\n",
    "def check_number(num):\n",
    "    if num < 0:\n",
    "        raise ValueError(\"Negative numbers are not allowed.\")\n",
    "    else:\n",
    "        print(f\"Number: {num}\")\n",
    "\n",
    "try:\n",
    "    check_number(-5)\n",
    "except ValueError as e:\n",
    "    print(e)\n",
    "Output:\n",
    "\n",
    "mathematica\n",
    "Copy code\n",
    "Negative numbers are not allowed.\n",
    "## Q5. What are Custom Exceptions in Python? Why do we need Custom Exceptions? Explain with an example.\n",
    "Custom exceptions are user-defined exceptions that extend the base Exception class in Python. They allow you to create meaningful error types specific to your application logic, making it easier to handle specific types of errors in a structured way.\n",
    "\n",
    "Why we need custom exceptions:\n",
    "\n",
    "To represent application-specific errors.\n",
    "To make code more readable and meaningful by defining exceptions that match the problem domain.\n",
    "Example:\n",
    "\n",
    "\n",
    "class InvalidAgeError(Exception):\n",
    "    def __init__(self, age, message=\"Age must be between 18 and 100\"):\n",
    "        self.age = age\n",
    "        self.message = message\n",
    "        super().__init__(self.message)\n",
    "\n",
    "def check_age(age):\n",
    "    if age < 18 or age > 100:\n",
    "        raise InvalidAgeError(age)\n",
    "    else:\n",
    "        print(\"Valid age\")\n",
    "\n",
    "try:\n",
    "    check_age(120)\n",
    "except InvalidAgeError as e:\n",
    "    print(f\"Error: {e}\")\n",
    "Output:\n",
    "\n",
    "javascript\n",
    "Copy code\n",
    "Error: Age must be between 18 and 100\n",
    "## Q6. Create a custom exception class. Use this class to handle an exception.\n",
    "Custom Exception Class Example:\n",
    "\n",
    "python\n",
    "Copy code\n",
    "class InsufficientFundsError(Exception):\n",
    "    def __init__(self, balance, amount, message=\"Insufficient funds in your account.\"):\n",
    "        self.balance = balance\n",
    "        self.amount = amount\n",
    "        self.message = f\"{message} Your balance is {balance}, but you tried to withdraw {amount}.\"\n",
    "        super().__init__(self.message)\n",
    "\n",
    "def withdraw(balance, amount):\n",
    "    if amount > balance:\n",
    "        raise InsufficientFundsError(balance, amount)\n",
    "    else:\n",
    "        balance -= amount\n",
    "        return balance\n",
    "\n",
    "try:\n",
    "    balance = 500\n",
    "    new_balance = withdraw(balance, 1000)\n",
    "except InsufficientFundsError as e:\n",
    "    print(e)"
   ]
  },
  {
   "cell_type": "code",
   "execution_count": null,
   "id": "ecc334e0",
   "metadata": {},
   "outputs": [],
   "source": []
  },
  {
   "cell_type": "code",
   "execution_count": null,
   "id": "545d31f5",
   "metadata": {},
   "outputs": [],
   "source": []
  }
 ],
 "metadata": {
  "kernelspec": {
   "display_name": "Python 3 (ipykernel)",
   "language": "python",
   "name": "python3"
  },
  "language_info": {
   "codemirror_mode": {
    "name": "ipython",
    "version": 3
   },
   "file_extension": ".py",
   "mimetype": "text/x-python",
   "name": "python",
   "nbconvert_exporter": "python",
   "pygments_lexer": "ipython3",
   "version": "3.10.10"
  }
 },
 "nbformat": 4,
 "nbformat_minor": 5
}
